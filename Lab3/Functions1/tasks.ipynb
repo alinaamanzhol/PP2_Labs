{
 "cells": [
  {
   "cell_type": "code",
   "execution_count": 1,
   "metadata": {},
   "outputs": [
    {
     "name": "stdout",
     "output_type": "stream",
     "text": [
      "You need to take 4252.428465 ounces\n"
     ]
    }
   ],
   "source": [
    "#Task 1\n",
    "def convert(grams):\n",
    "    return grams*28.3495231\n",
    "\n",
    "grams = 150\n",
    "ounces = convert(grams)\n",
    "print(f\"You need to take {ounces} ounces\")"
   ]
  },
  {
   "cell_type": "code",
   "execution_count": 2,
   "metadata": {},
   "outputs": [
    {
     "name": "stdout",
     "output_type": "stream",
     "text": [
      "142F is equal to 61.111111111111114C\n"
     ]
    }
   ],
   "source": [
    "#Task 2\n",
    "def celcium(f):\n",
    "    return (5/9)*(f-32)\n",
    "\n",
    "f = 142\n",
    "c = celcium(f)\n",
    "\n",
    "print(f\"{f}F is equal to {c}C\")"
   ]
  },
  {
   "cell_type": "code",
   "execution_count": 3,
   "metadata": {},
   "outputs": [
    {
     "name": "stdout",
     "output_type": "stream",
     "text": [
      "There are 23 rabbits and 12 chickens\n"
     ]
    }
   ],
   "source": [
    "#Task 3\n",
    "def solve(heads, legs):\n",
    "    chicken = 0\n",
    "    rabbit = 0\n",
    "    for i in range(1, heads+1):\n",
    "        if i*2+(heads-i)*4==legs:\n",
    "            chicken = i\n",
    "            rabbit = heads-i\n",
    "            break\n",
    "    \n",
    "    if(chicken != 0 and rabbit != 0):\n",
    "        return chicken, rabbit\n",
    "    else:\n",
    "        return \"No solution\"\n",
    "\n",
    "heads = 35\n",
    "legs = 94\n",
    "\n",
    "res = solve(heads, legs)\n",
    "if type(res)==tuple:\n",
    "    print(f\"There are {res[0]} rabbits and {res[1]} chickens\")\n",
    "else:\n",
    "    print(res)"
   ]
  },
  {
   "cell_type": "code",
   "execution_count": 4,
   "metadata": {},
   "outputs": [
    {
     "name": "stdout",
     "output_type": "stream",
     "text": [
      "2\n",
      "3\n",
      "5\n",
      "7\n",
      "11\n",
      "13\n",
      "17\n",
      "19\n"
     ]
    }
   ],
   "source": [
    "#Task 4\n",
    "def primes(arr):\n",
    "    \n",
    "    for i in arr:\n",
    "        if i == 1:\n",
    "            continue\n",
    "        count = 0\n",
    "        for j in range(1, i+1):\n",
    "            if i%j==0:\n",
    "                count+=1\n",
    "        if count==2:\n",
    "            print(i)\n",
    "\n",
    "arr = [1, 2, 3, 4, 5, 6, 7, 8, 9, 10, 11, 12, 13, 14, 15, 16, 17, 18, 19, 20]\n",
    "primes(arr)\n"
   ]
  },
  {
   "cell_type": "code",
   "execution_count": 5,
   "metadata": {},
   "outputs": [
    {
     "name": "stdout",
     "output_type": "stream",
     "text": [
      "abcd\n",
      "abdc\n",
      "acbd\n",
      "acdb\n",
      "adbc\n",
      "adcb\n",
      "bacd\n",
      "badc\n",
      "bcad\n",
      "bcda\n",
      "bdac\n",
      "bdca\n",
      "cabd\n",
      "cadb\n",
      "cbad\n",
      "cbda\n",
      "cdab\n",
      "cdba\n",
      "dabc\n",
      "dacb\n",
      "dbac\n",
      "dbca\n",
      "dcab\n",
      "dcba\n"
     ]
    }
   ],
   "source": [
    "#Task 5\n",
    "def generate_permutations(s, current=\"\"):\n",
    "    if len(s) == 0:  \n",
    "        print(current)\n",
    "    else:\n",
    "        for i in range(len(s)):\n",
    "            \n",
    "            generate_permutations(s[:i] + s[i+1:], current + s[i])\n",
    "\n",
    "\n",
    "string = \"abcd\"\n",
    "generate_permutations(string)"
   ]
  },
  {
   "cell_type": "code",
   "execution_count": null,
   "metadata": {},
   "outputs": [],
   "source": [
    "#Task 6\n",
    "words = list(map(str, input().split()))\n",
    "def reverse(words):\n",
    "    text = \"\"\n",
    "    for i in range(len(words)):\n",
    "        text+=words[len(words)-1-i]\n",
    "        text+=' '\n",
    "    print(text)\n",
    "\n",
    "reverse(words)\n",
    " "
   ]
  },
  {
   "cell_type": "code",
   "execution_count": 1,
   "metadata": {},
   "outputs": [
    {
     "name": "stdout",
     "output_type": "stream",
     "text": [
      "True\n",
      "True\n",
      "False\n"
     ]
    }
   ],
   "source": [
    "#Task 7\n",
    "def has_33(nums):\n",
    "    if(3 not in nums):\n",
    "        return False\n",
    "    \n",
    "    ind = nums.index(3)\n",
    "    count = nums.count(3)\n",
    "    if(len(nums)-ind==count):\n",
    "        return True\n",
    "    \n",
    "    return False\n",
    "\n",
    "print(has_33([1, 3, 3]))\n",
    "print(has_33([1, 3, 3, 3]))\n",
    "print(has_33([3, 1, 3]))"
   ]
  },
  {
   "cell_type": "code",
   "execution_count": 2,
   "metadata": {},
   "outputs": [
    {
     "name": "stdout",
     "output_type": "stream",
     "text": [
      "True\n",
      "True\n",
      "False\n"
     ]
    }
   ],
   "source": [
    "#Task 8\n",
    "def spy_game(nums):\n",
    "    seq = [0, 0, 7]\n",
    "    for i in nums:\n",
    "        if i == seq[0]:\n",
    "            seq.pop(0)\n",
    "        if not seq:\n",
    "            return True\n",
    "        \n",
    "    return False\n",
    "\n",
    "print(spy_game([1,2,4,0,0,7,5]))\n",
    "print(spy_game([1,0,2,4,0,0,7]))\n",
    "print(spy_game([1,7,2,0,4,5,0]))"
   ]
  },
  {
   "cell_type": "code",
   "execution_count": 3,
   "metadata": {},
   "outputs": [
    {
     "name": "stdout",
     "output_type": "stream",
     "text": [
      "The volume = 310339.0886922141\n"
     ]
    }
   ],
   "source": [
    "#Task 9\n",
    "import math\n",
    "def volume(r):\n",
    "    return (math.pi * math.pow(r, 3) * 4)/3\n",
    "\n",
    "radius = 42\n",
    "vol = volume(radius)\n",
    "\n",
    "print(f\"The volume = {vol}\")"
   ]
  },
  {
   "cell_type": "code",
   "execution_count": 4,
   "metadata": {},
   "outputs": [
    {
     "name": "stdout",
     "output_type": "stream",
     "text": [
      "[1, 2, 1, 4, 5, 6, 10, 9]\n"
     ]
    }
   ],
   "source": [
    "#Task 10\n",
    "arr = [1, 1, 1, 2, 2, 1, 1, 4, 4, 5, 6, 6, 6, 10, 10, 9, 9, 9]\n",
    "\n",
    "def unique():\n",
    "    global arr\n",
    "    k = arr[0]\n",
    "    newarr = []\n",
    "    newarr.append(k)\n",
    "    for i in range(1, len(arr)):\n",
    "        if arr[i]!=k:\n",
    "            k=arr[i]\n",
    "            newarr.append(k)\n",
    "    arr = newarr\n",
    "    \n",
    "\n",
    "    \n",
    "unique()\n",
    "print(arr)"
   ]
  },
  {
   "cell_type": "code",
   "execution_count": null,
   "metadata": {},
   "outputs": [],
   "source": [
    "#Task 11\n",
    "word = input() \n",
    "def check(word):\n",
    "    if word == word[::-1]:\n",
    "        return True\n",
    "    \n",
    "    return False\n",
    "\n",
    "print(check(word))"
   ]
  },
  {
   "cell_type": "code",
   "execution_count": 1,
   "metadata": {},
   "outputs": [
    {
     "name": "stdout",
     "output_type": "stream",
     "text": [
      "*******\n",
      "******\n",
      "********\n"
     ]
    }
   ],
   "source": [
    "#Task 12\n",
    "def histogram(arr):\n",
    "    for i in arr:\n",
    "        h = \"\"\n",
    "        for j in range(i):\n",
    "            h+='*'\n",
    "        print(h)\n",
    "\n",
    "arr = [7, 6, 8]\n",
    "histogram(arr)"
   ]
  }
 ],
 "metadata": {
  "kernelspec": {
   "display_name": "Python 3",
   "language": "python",
   "name": "python3"
  },
  "language_info": {
   "codemirror_mode": {
    "name": "ipython",
    "version": 3
   },
   "file_extension": ".py",
   "mimetype": "text/x-python",
   "name": "python",
   "nbconvert_exporter": "python",
   "pygments_lexer": "ipython3",
   "version": "3.11.9"
  }
 },
 "nbformat": 4,
 "nbformat_minor": 2
}
