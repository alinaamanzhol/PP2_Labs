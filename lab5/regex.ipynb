{
 "cells": [
  {
   "cell_type": "code",
   "execution_count": 1,
   "metadata": {},
   "outputs": [],
   "source": [
    "import re\n",
    "with open('text.txt', 'r', encoding='utf-8') as tasks:\n",
    "    tasks = tasks.read()\n"
   ]
  },
  {
   "cell_type": "code",
   "execution_count": 2,
   "metadata": {},
   "outputs": [
    {
     "name": "stdout",
     "output_type": "stream",
     "text": [
      "['early', 'Olivia', 'walked', 'park', 'fresh_air', 'a', 'and', 'distance', 'played', 'near', 'lake', 'small_stones', 'water', 'Nearby', 'an', 'artist', 'was', 'painting', 'a', 'beautiful_landscape', 'various', 'shades', 'and', 'also', 'saw', 'a', 'named', 'had', 'a', 'classic', 'Later', 'Olivia', 'name', 'was', 'and', 'MachineLearning', 'and', 'DataAnalysis', 'creating', 'a', 'that', 'CamelCaseWords', 'and', 'snake_case_words', 'was', 'also', 'an', 'analyzing', 'uppercase_and_lowercase_words', 'large', 'That', 'at', 'a', 'place', 'called', 'had', 'as', 'grilled_salmon', 'fresh_pasta', 'and', 'mixed_vegetables', 'waiting', 'Olivia', 'read', 'a', 'about', 'history_of_art', 'and', 'architecture', 'hand', 'was', 'organizing', 'an', 'leaving', 'Olivia', 'and', 'planned', 'babble', 'wanted', 'GrandCanyon', 'and', 'famous', 'landmarks', 'had', 'already', 'created', 'a', 'CentralLibrary', 'HistoricalMuseum', 'and', 'finalized', 'plans', 'that', 'weather_forecast', 'had', 'a', 'day', 'learning', 'and', 'agreed', 'that', 'day', 'crab', 'grab', 'a', 'snack', 'near', 'beach']\n"
     ]
    }
   ],
   "source": [
    "#Task 1\n",
    "def check1(s):\n",
    "    \n",
    "    pattern = r'.*a+b*.*'\n",
    "    if re.fullmatch(pattern, s):\n",
    "        return True\n",
    "    return False\n",
    "\n",
    "res =[]\n",
    "words = re.split(r'[ ,.?!\\n]', tasks)\n",
    "for i in words:\n",
    "    if check1(i):\n",
    "        res.append(i)\n",
    "        \n",
    "print(res)"
   ]
  },
  {
   "cell_type": "code",
   "execution_count": 3,
   "metadata": {},
   "outputs": [
    {
     "name": "stdout",
     "output_type": "stream",
     "text": [
      "['babble']\n"
     ]
    }
   ],
   "source": [
    "#Task 2\n",
    "def check2(s):\n",
    "    pattern = r'.*a+b{2,3}.*'\n",
    "    if re.fullmatch(pattern, s):\n",
    "        return True\n",
    "    return  False\n",
    "result = []\n",
    "for i in words:\n",
    "    if check2(i):\n",
    "        result.append(i)\n",
    "print(result)\n"
   ]
  },
  {
   "cell_type": "code",
   "execution_count": 4,
   "metadata": {},
   "outputs": [
    {
     "name": "stdout",
     "output_type": "stream",
     "text": [
      "['fresh_air', 'bright_blue', 'small_stones', 'beautiful_landscape', 'grilled_salmon', 'fresh_pasta', 'mixed_vegetables', 'weather_forecast']\n"
     ]
    }
   ],
   "source": [
    "#Task 3\n",
    "def check3(s):\n",
    "    pattern = r'[a-z]+_[a-z]+'\n",
    "    if re.fullmatch(pattern, s):\n",
    "        return True\n",
    "    return False\n",
    "result3 = []  #It is the array of snake case\n",
    "for i in words:\n",
    "    if check3(i):\n",
    "        result3.append(i)\n",
    "print(result3)"
   ]
  },
  {
   "cell_type": "code",
   "execution_count": 5,
   "metadata": {},
   "outputs": [
    {
     "name": "stdout",
     "output_type": "stream",
     "text": [
      "['In', 'Olivia', 'She', 'Nearby', 'She', 'Later', 'Olivia', 'Her', 'Emily', 'One', 'She', 'That', 'Their', 'While', 'Olivia', 'Emily', 'Before', 'Olivia', 'Emily', 'They', 'Emily', 'As', 'It', 'They', 'The']\n"
     ]
    }
   ],
   "source": [
    "#Task 4\n",
    "def check4(s):\n",
    "    pattern = r'[A-Z]{1}[a-z]+'\n",
    "    if re.fullmatch(pattern, s):\n",
    "        return True\n",
    "    return False\n",
    "result4 = []\n",
    "for i in words:\n",
    "    if check4(i):\n",
    "        result4.append(i)\n",
    "print(result4)"
   ]
  },
  {
   "cell_type": "code",
   "execution_count": 6,
   "metadata": {},
   "outputs": [
    {
     "name": "stdout",
     "output_type": "stream",
     "text": [
      "['crab', 'grab']\n"
     ]
    }
   ],
   "source": [
    "#Task 5\n",
    "def check5(s):\n",
    "    pattern = r'.*a+.*b$'\n",
    "    if re.fullmatch(pattern, s):\n",
    "        return True\n",
    "    return False\n",
    "result5 = []\n",
    "for i in words:\n",
    "    if check5(i):\n",
    "        result5.append(i)\n",
    "print(result5)\n",
    "    "
   ]
  },
  {
   "cell_type": "code",
   "execution_count": 7,
   "metadata": {},
   "outputs": [
    {
     "name": "stdout",
     "output_type": "stream",
     "text": [
      "In:the:early:morning::Olivia:walked:through:the:park::enjoying:the:fresh_air:\n",
      "She:noticed:a:bright_blue:sky:and:birds:chirping:in:the:distance:\n",
      "A:group:of:children:played:near:the:lake::throwing:small_stones:into:the:water:\n",
      "Nearby::an:artist:was:painting:a:beautiful_landscape:using:various:shades:of:blue:and:green:\n",
      "She:also:saw:a:bookstore:named:River_Words::which:had:a:collection:of:classic:novels:\n",
      "\n",
      "Later::Olivia:stopped:by:her:friend’s:house::Her:friend’s:name:was:Emily_Johnson:\n",
      "Emily:loved:studying:ComputerScience:and:often:discussed:topics:like:MachineLearning:and:DataAnalysis:\n",
      "One:of:her:projects:involved:creating:a:script:that:could:detect:CamelCaseWords:and:snake_case_words:\n",
      "She:was:also:working:on:an:AI:project::analyzing:uppercase_and_lowercase_words:in:large:documents:\n",
      "\n",
      "That:evening::they:decided:to:go:for:dinner:at:a:place:called:Golden_Fork:\n",
      "Their:menu:had:delicious:dishes:such:as:grilled_salmon::fresh_pasta::and:mixed_vegetables:\n",
      "While:waiting:for:their:food::Olivia:read:a:book:about:the:history_of_art:and:architecture:\n",
      "Emily::on:the:other:hand::was:busy:organizing:her:notes:for:an:upcoming:AI:conference:\n",
      "\n",
      "Before:leaving::Olivia:and:Emily:planned:their:next:weekend:trip:babble:\n",
      "They:wanted:to:visit:the:GrandCanyon:and:explore:famous:landmarks:\n",
      "Emily:had:already:created:a:list::including:CentralLibrary::HistoricalMuseum::and:SkylineViewpoint:\n",
      "As:they:finalized:their:plans::they:noticed:that:the:weather_forecast:predicted:sunny:skies:for:the:whole:week:\n",
      "\n",
      "It:had:been:a:wonderful:day:filled:with:learning::exploring::and:delicious:food:\n",
      "They:both:agreed:that:life:is:full:of:opportunities:to:discover:something:new:every:day:\n",
      "The:crab:will:grab:a:snack:near:the:beach:club:\n"
     ]
    }
   ],
   "source": [
    "#Task 6\n",
    "text = re.sub(r'[,. ]', r':', tasks)\n",
    "print(text)"
   ]
  },
  {
   "cell_type": "code",
   "execution_count": 8,
   "metadata": {},
   "outputs": [
    {
     "name": "stdout",
     "output_type": "stream",
     "text": [
      "Snake case string: ['fresh_air', 'bright_blue', 'small_stones', 'beautiful_landscape', 'grilled_salmon', 'fresh_pasta', 'mixed_vegetables', 'weather_forecast']\n",
      "Camel case string: ['FreshAir', 'BrightBlue', 'SmallStones', 'BeautifulLandscape', 'GrilledSalmon', 'FreshPasta', 'MixedVegetables', 'WeatherForecast']\n"
     ]
    }
   ],
   "source": [
    "#Task 7\n",
    "#result3 is array of snake case\n",
    "\n",
    "def snake_to_camel(s):\n",
    "    t = s.split('_')\n",
    "    s1 = t[0]\n",
    "    s1 = s1.capitalize()\n",
    "    s2 = t[1]\n",
    "    s2 = s2.capitalize()\n",
    "    return s1+s2\n",
    "\n",
    "result7 = []\n",
    "for i in result3:\n",
    "    result7.append(snake_to_camel(i))\n",
    "print(f\"Snake case string: {result3}\") #Snake case\n",
    "print(f\"Camel case string: {result7}\") #Camel case\n",
    "    \n",
    "        \n"
   ]
  },
  {
   "cell_type": "code",
   "execution_count": 9,
   "metadata": {},
   "outputs": [
    {
     "name": "stdout",
     "output_type": "stream",
     "text": [
      "['', 'In the early morning, ', 'Olivia walked through the park, enjoying the fresh_air.\\n', 'She noticed a bright_blue sky and birds chirping in the distance.\\n', 'A group of children played near the lake, throwing small_stones into the water.\\n', 'Nearby, an artist was painting a beautiful_landscape using various shades of blue and green.\\n', 'She also saw a bookstore named ', 'River_', 'Words, which had a collection of classic novels.\\n\\n', 'Later, ', 'Olivia stopped by her friend’s house. ', 'Her friend’s name was ', 'Emily_', 'Johnson.\\n', 'Emily loved studying ', 'Computer', 'Science and often discussed topics like ', 'Machine', 'Learning and ', 'Data', 'Analysis.\\n', 'One of her projects involved creating a script that could detect ', 'Camel', 'Case', 'Words and snake_case_words.\\n', 'She was also working on an ', 'A', 'I project, analyzing uppercase_and_lowercase_words in large documents.\\n\\n', 'That evening, they decided to go for dinner at a place called ', 'Golden_', 'Fork.\\n', 'Their menu had delicious dishes such as grilled_salmon, fresh_pasta, and mixed_vegetables.\\n', 'While waiting for their food, ', 'Olivia read a book about the history_of_art and architecture.\\n', 'Emily, on the other hand, was busy organizing her notes for an upcoming ', 'A', 'I conference.\\n\\n', 'Before leaving, ', 'Olivia and ', 'Emily planned their next weekend trip babble.\\n', 'They wanted to visit the ', 'Grand', 'Canyon and explore famous landmarks.\\n', 'Emily had already created a list, including ', 'Central', 'Library, ', 'Historical', 'Museum, and ', 'Skyline', 'Viewpoint.\\n', 'As they finalized their plans, they noticed that the weather_forecast predicted sunny skies for the whole week.\\n\\n', 'It had been a wonderful day filled with learning, exploring, and delicious food.\\n', 'They both agreed that life is full of opportunities to discover something new every day.\\n', 'The crab will grab a snack near the beach club.']\n"
     ]
    }
   ],
   "source": [
    "#Task 8\n",
    "words2 = re.split(r'(?=[A-Z])', tasks)\n",
    "print(words2)"
   ]
  },
  {
   "cell_type": "code",
   "execution_count": 10,
   "metadata": {},
   "outputs": [
    {
     "name": "stdout",
     "output_type": "stream",
     "text": [
      "Fresh Air Bright Blue Small Stones Beautiful Landscape Grilled Salmon Fresh Pasta Mixed Vegetables Weather Forecast\n"
     ]
    }
   ],
   "source": [
    "#Task 9\n",
    "def insert_spaces(s):\n",
    "    s = re.sub(r'(?<!^)(?=[A-Z])', ' ', s)\n",
    "    return s\n",
    "\n",
    "s = ''\n",
    "for i in result7:\n",
    "    s += i\n",
    "print(insert_spaces(s))\n",
    "    "
   ]
  },
  {
   "cell_type": "code",
   "execution_count": 12,
   "metadata": {},
   "outputs": [
    {
     "name": "stdout",
     "output_type": "stream",
     "text": [
      "['fresh_air', 'bright_blue', 'small_stones', 'beautiful_landscape', 'grilled_salmon', 'fresh_pasta', 'mixed_vegetables', 'weather_forecast']\n"
     ]
    }
   ],
   "source": [
    "#Task 10\n",
    "def camel_to_string(s):\n",
    "    t = re.split(r'(?<!^)(?=[A-Z])', s)\n",
    "    s1 = t[0]\n",
    "    s2 = t[1]\n",
    "    s1 = s1.lower()\n",
    "    s2 = s2.lower()\n",
    "    return s1+'_'+s2\n",
    "\n",
    "result10 = []\n",
    "for i in result7:\n",
    "    result10.append(camel_to_string(i))\n",
    "    \n",
    "print(result10)\n",
    "    "
   ]
  }
 ],
 "metadata": {
  "kernelspec": {
   "display_name": "Python 3",
   "language": "python",
   "name": "python3"
  },
  "language_info": {
   "codemirror_mode": {
    "name": "ipython",
    "version": 3
   },
   "file_extension": ".py",
   "mimetype": "text/x-python",
   "name": "python",
   "nbconvert_exporter": "python",
   "pygments_lexer": "ipython3",
   "version": "3.11.9"
  }
 },
 "nbformat": 4,
 "nbformat_minor": 2
}
